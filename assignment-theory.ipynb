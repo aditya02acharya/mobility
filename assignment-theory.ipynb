{
 "cells": [
  {
   "cell_type": "markdown",
   "metadata": {},
   "source": [
    "# Development of the utility-maximization method for computing an optimal assignment\n",
    "\n",
    "The actual library code is in `assignment.py`. In this notebook we walk through the theory, \n",
    "and include lots of sanity checks that the\n",
    "formulae in the implementation are actually doing the right thing."
   ]
  },
  {
   "cell_type": "code",
   "execution_count": 2,
   "metadata": {},
   "outputs": [],
   "source": [
    "import cvxopt\n",
    "import numpy as np\n",
    "import pandas\n",
    "import collections\n",
    "import scipy.optimize\n",
    "import matplotlib.pyplot as plt"
   ]
  },
  {
   "cell_type": "markdown",
   "metadata": {},
   "source": [
    "# 1. Nonlinear convex optimization\n",
    "\n",
    "A review of the convex optimization library [cvxopt](https://cvxopt.org/userguide/solvers.html):\n",
    "\n",
    "\\begin{align}\n",
    "&\\text{minimize} &&f_0(x)\\\\\n",
    "&\\text{subject to} &&f_k(x)\\leq 0,\\quad k=1,\\dots,m\\\\\n",
    "&&&Gx \\preceq_C h\\\\\n",
    "&&&Ax = b\n",
    "\\end{align}\n",
    "\n",
    "The functions $f_k$ are required to be convex and twice differentiable.\n",
    "The _generalized inequality_ $Gx\\preceq_C h$ means $Gx - h \\in \\operatorname{int} C$ where $C$ is a \"proper convex cone\". If the cone in question is $C=\\mathbb{R}_+^d$ (the default) then $Gx \\preceq_C h$ means $Gx-h\\in\\mathbb{R}_+^d$ i.e. $Gx\\leq h$ componentwise."
   ]
  },
  {
   "cell_type": "markdown",
   "metadata": {},
   "source": [
    "```\n",
    "cvxopt.solvers.cp(F, G, h, dims, A, b)\n",
    "\n",
    "F()\n",
    "    returns (m, x0) where x0 is a matrix of size n×1, and is feasible\n",
    "F(x) where x is a matrix of size n×1\n",
    "    returns (f, Df)\n",
    "        f is a (m+1)×1 matrix, with the values of the f_k functions\n",
    "        Df is a (m+1)×n matrix, with Df[k,:] equal to the gradient of the f_k function\n",
    "F(x,z) where x and z are matrices of sizes n×1 and (m+1)×n respectively\n",
    "    returns (f, Df, H)\n",
    "        f, Df are as above\n",
    "        H is a square matrix of size n×n, equal to Σ_k z_k ∇^2 f_k(x)\n",
    "h and b\n",
    "    single-column matrices\n",
    "G and A\n",
    "    matrices\n",
    "dims\n",
    "    specifies the cone; leaving it at its default corresponds to the componentwise constraint Gx <= h\n",
    "    \n",
    "Returns a dictionary with these keys:\n",
    "\n",
    "status\n",
    "    optimal / unknown\n",
    "x\n",
    "    primal solution\n",
    "y\n",
    "    dual variables associated with the equality constraints,\n",
    "    for the Lagrangian f_0(x) + Σ_k y_k [Ax - b]_k\n",
    "```"
   ]
  },
  {
   "cell_type": "markdown",
   "metadata": {},
   "source": [
    "### Dummy example\n",
    "\n",
    "\\begin{align}\n",
    "&\\text{minimize} && p^2+2 q^2\\\\\n",
    "&\\text{over} && p,q\\in[0,1]\\\\\n",
    "&\\text{such that} && p+q=1\n",
    "\\end{align}"
   ]
  },
  {
   "cell_type": "code",
   "execution_count": null,
   "metadata": {},
   "outputs": [],
   "source": [
    "def as_column(x):\n",
    "    return np.array(x).reshape(-1,1)\n",
    "def m(x):\n",
    "    return cvxopt.matrix(x, tc='d')\n",
    "\n",
    "def F(x=None, z=None):\n",
    "    if x is None and z is None:\n",
    "        return (0, m(as_column([0,0])))\n",
    "    ([p],[q]) = np.array(x)\n",
    "    f = as_column(p*p + 2*q*q)\n",
    "    Df = np.zeros((1,2))\n",
    "    Df[0,:] = [2*p, 4*q]\n",
    "    if z is None:\n",
    "        return (m(f), m(Df))\n",
    "    [[z]] = np.array(z)\n",
    "    H = np.array([[2,0],[0,4]]) * z\n",
    "    return (m(f), m(Df), m(H))\n",
    "\n",
    "G = m(np.array([[-1,0],[1,0],[0,-1],[0,1]]))\n",
    "h = m(as_column([0,1,0,1]))\n",
    "A = m(np.array([[1,1]]))\n",
    "b = m(as_column(1))\n",
    "\n",
    "res = cvxopt.solvers.cp(F, G=G, h=h, A=A, b=b)"
   ]
  },
  {
   "cell_type": "code",
   "execution_count": null,
   "metadata": {},
   "outputs": [],
   "source": [
    "np.array(res['x'])"
   ]
  },
  {
   "cell_type": "code",
   "execution_count": null,
   "metadata": {},
   "outputs": [],
   "source": [
    "np.array(res['y'])"
   ]
  },
  {
   "cell_type": "markdown",
   "metadata": {},
   "source": [
    "\\begin{align}\n",
    "&\\text{minimize} && p^2+2 q^2\\\\\n",
    "&\\text{over} && p,q\\in[0,1]\\\\\n",
    "&\\text{such that} && pq \\geq 0.5\n",
    "\\end{align}\n",
    "\n",
    "Algebraic solution: the constraints require $p,q\\in[.5,1]$, and the minimum will be at $q=0.5/p$, so the objective is $p^2+1/(2p^2)$, minimized at $p=2^{-1/4}=0.8409$."
   ]
  },
  {
   "cell_type": "code",
   "execution_count": 6,
   "metadata": {},
   "outputs": [
    {
     "name": "stdout",
     "output_type": "stream",
     "text": [
      "     pcost       dcost       gap    pres   dres\n",
      " 0:  0.0000e+00 -2.2000e-01  6e+00  1e+00  1e+00\n",
      " 1: -9.2297e-02 -3.1119e-01  2e+00  4e-01  4e-01\n",
      " 2:  1.4581e+00  9.2255e-01  8e-01  1e-01  4e-01\n",
      " 3:  1.4666e+00  1.3838e+00  9e-02  4e-03  4e-02\n",
      " 4:  1.4192e+00  1.4121e+00  9e-03  6e-04  4e-03\n",
      " 5:  1.4143e+00  1.4142e+00  2e-04  1e-05  7e-05\n",
      " 6:  1.4142e+00  1.4142e+00  2e-06  1e-07  7e-07\n",
      " 7:  1.4142e+00  1.4142e+00  2e-08  1e-09  7e-09\n",
      "Optimal solution found.\n"
     ]
    },
    {
     "data": {
      "text/plain": [
       "array([[0.84089642],\n",
       "       [0.59460356]])"
      ]
     },
     "execution_count": 6,
     "metadata": {},
     "output_type": "execute_result"
    }
   ],
   "source": [
    "def m(x):\n",
    "    return cvxopt.matrix(x, tc='d')\n",
    "\n",
    "def F(x=None, z=None):\n",
    "    if x is None and z is None:\n",
    "        x0 = np.array([.8,.8])\n",
    "        return (1, m(x0[:,None]))\n",
    "    ([p],[q]) = np.array(x)\n",
    "    f = np.array([p*p + 2*q*q, 0.5 - p*q])[:,None]\n",
    "    Df = np.array([[2*p, 4*q], [-q, -p]])\n",
    "    if z is None:\n",
    "        return (m(f), m(Df))\n",
    "    [[z0],[z1]] = np.array(z)\n",
    "    H0 = np.array([[2,0],[0,4]])\n",
    "    H1 = np.array([[0,-1],[-1,0]])\n",
    "    H = z0*H0 + z1*H1\n",
    "    return (m(f), m(Df), m(H))\n",
    "\n",
    "G = np.array([[-1,0],[1,0],[0,-1],[0,1]])\n",
    "h = np.array([[0,1,0,1]]).T\n",
    "\n",
    "res = cvxopt.solvers.cp(F, G=m(G), h=m(h))\n",
    "\n",
    "np.array(res['x'])"
   ]
  },
  {
   "cell_type": "markdown",
   "metadata": {},
   "source": [
    "# Simple one-link illustration\n",
    "\n",
    "Consider a single link, where the rideshare price is $\\mu$ and the rideshare operating cost is $\\textit{vc}$.\n",
    "At price $\\mu$, the operator's profit is\n",
    "$$\n",
    "\\operatorname{profit}(\\mu) = \\hat{\\alpha}(\\mu) \\; \\bigl(\\mu-\\textit{vc}\\bigr)\n",
    "$$\n",
    "where $\\hat{\\alpha}$ is the demand function\n",
    "$$\n",
    "\\hat{\\alpha}(\\mu) \n",
    "= \\frac{e^{\\text{bias}-\\text{psen}\\,\\mu}}{1+e^{\\text{bias}-\\text{psen}\\,\\mu}}\n",
    "= \\operatorname*{arg\\,max}_\\alpha \\Bigl\\{\\alpha\\bigl(\\text{bias}-\\text{psen}\\,\\mu\\bigr) + H(\\alpha,1-\\alpha)\\Bigr\\}\\\\\n",
    "$$\n",
    "and where $\\text{bias}$ and $\\text{psen}$ are coefficients from the discrete choice model.\n",
    "\n",
    "At the profit-maximizing price $\\hat{\\mu}$, it can be shown (using simple calculus) that the corresponding $\\hat{\\alpha}$ solves\n",
    "$$\n",
    "\\hat{\\alpha} = \\operatorname*{arg\\,max}_\\alpha \\Bigl\\{\\alpha\\bigl(\\text{bias}-\\text{psen}\\,\\textit{vc}\\bigr) + H(\\alpha,1-\\alpha) + \\log(1-\\alpha)\\Bigr\\}\n",
    "$$\n",
    "and furthermore that\n",
    "$$\n",
    "\\hat{\\mu} = \\textit{vc} + \\frac{1}{\\text{psen}(1-\\hat{\\alpha})}\n",
    "$$"
   ]
  },
  {
   "cell_type": "code",
   "execution_count": 25,
   "metadata": {},
   "outputs": [],
   "source": [
    "bias_rs = 1\n",
    "pricesen_rs = 2\n",
    "bias_bus = .5\n",
    "vehicle_cost = 2\n",
    "\n",
    "def logit(p): return np.log(p/(1-p))\n",
    "def invlogit(x): return np.exp(x) / (1 + np.exp(x))\n",
    "\n",
    "def U(α,μ):\n",
    "    return α*(bias_rs-μ*pricesen_rs) + (1-α)*bias_bus - α*np.log(α) - (1-α)*np.log(1-α)\n",
    "\n",
    "def optα(μ):\n",
    "    return invlogit(bias_rs - bias_bus - pricesen_rs*μ)"
   ]
  },
  {
   "cell_type": "code",
   "execution_count": 4,
   "metadata": {},
   "outputs": [
    {
     "name": "stdout",
     "output_type": "stream",
     "text": [
      "Optimization terminated successfully.\n",
      "         Current function value: -0.511048\n",
      "         Iterations: 29\n",
      "         Function evaluations: 58\n",
      "utility max: 0.010986942630593122\n",
      "logistic theory: 0.01098694263059318\n"
     ]
    }
   ],
   "source": [
    "# Demand as a function of price\n",
    "\n",
    "[x] = scipy.optimize.fmin(lambda x: -U(α=invlogit(x),μ=2.5), x0=0)\n",
    "print(\"utility max:\", invlogit(x))\n",
    "print(\"logistic theory:\", optα(μ=2.5))"
   ]
  },
  {
   "cell_type": "code",
   "execution_count": 5,
   "metadata": {},
   "outputs": [
    {
     "data": {
      "text/plain": [
       "(-0.16550373745732871, -0.1656391339814823)"
      ]
     },
     "execution_count": 5,
     "metadata": {},
     "output_type": "execute_result"
    }
   ],
   "source": [
    "# Derivative of the demand function:\n",
    "# should be - pricesen_rs * α * (1-α)\n",
    "\n",
    "δ = 0.001\n",
    "μ = 1.4\n",
    "α = optα(μ)\n",
    "((optα(μ+δ) - optα(μ))/δ, -pricesen_rs*α*(1-α))"
   ]
  },
  {
   "cell_type": "code",
   "execution_count": 6,
   "metadata": {},
   "outputs": [
    {
     "name": "stdout",
     "output_type": "stream",
     "text": [
      "Optimization terminated successfully.\n",
      "         Current function value: -0.005494\n",
      "         Iterations: 18\n",
      "         Function evaluations: 36\n",
      "2.505468750000004 0.010868726708859262\n"
     ]
    },
    {
     "data": {
      "image/png": "[encoded data removed]",
      "text/plain": [
       "<Figure size 432x288 with 1 Axes>"
      ]
     },
     "metadata": {
      "needs_background": "light"
     },
     "output_type": "display_data"
    }
   ],
   "source": [
    "# Profit maximization.\n",
    "# Observe that profit is not a convex function of price, so it's not amenable to nice\n",
    "# simple convex optimization.\n",
    "\n",
    "def net_profit(μ): return (μ - vehicle_cost) * optα(μ)\n",
    "\n",
    "[optμ] = scipy.optimize.fmin(lambda x: -net_profit(x), x0=1)\n",
    "print(optμ, optα(optμ))\n",
    "\n",
    "μ = np.linspace(1.9,5)\n",
    "plt.plot(μ, net_profit(μ))\n",
    "plt.show()"
   ]
  },
  {
   "cell_type": "code",
   "execution_count": 119,
   "metadata": {},
   "outputs": [
    {
     "name": "stdout",
     "output_type": "stream",
     "text": [
      "Optimization terminated successfully.\n",
      "         Current function value: -0.510988\n",
      "         Iterations: 29\n",
      "         Function evaluations: 58\n"
     ]
    },
    {
     "data": {
      "text/plain": [
       "0.010868054817056674"
      ]
     },
     "execution_count": 119,
     "metadata": {},
     "output_type": "execute_result"
    }
   ],
   "source": [
    "# Implied utility version of profix maximization:\n",
    "# maximizing profit is equivalent to maximizing U(α,vc) + log(1-α)\n",
    "\n",
    "def implied_utility(α): return U(α, vehicle_cost) + np.log(1-α)\n",
    "[x] = scipy.optimize.fmin(lambda x: - implied_utility(α=invlogit(x)), x0=0)\n",
    "α = invlogit(x)\n",
    "α"
   ]
  },
  {
   "cell_type": "code",
   "execution_count": 120,
   "metadata": {},
   "outputs": [
    {
     "data": {
      "text/plain": [
       "2.505493733606514"
      ]
     },
     "execution_count": 120,
     "metadata": {},
     "output_type": "execute_result"
    }
   ],
   "source": [
    "# Relationship between price (μ) and rideshare fraction (α):\n",
    "# at the optimum, μ = vc + 1/(psen*(1-α))\n",
    "\n",
    "vehicle_cost + 1/(pricesen_rs*(1-α))"
   ]
  },
  {
   "cell_type": "markdown",
   "metadata": {},
   "source": [
    "# 2. The assignment model as a convex optimization"
   ]
  },
  {
   "cell_type": "markdown",
   "metadata": {},
   "source": [
    "Our utility maximization problem is\n",
    "\n",
    "\\begin{align}\n",
    "&\\text{maximize} && \n",
    "\\sum_{i,j} \\Bigl\\{ \n",
    "\\frac{d_{i j}}{\\text{psen}_{i j}} \\Bigl[\n",
    "  U_{i j}(\\alpha_{i j}, \\textit{vc}_{i j}) + \\log(1-\\alpha_{i j})\n",
    "  \\Bigr]\n",
    "  - \\beta_{i j} \\textit{vc}_{i j}\n",
    "  \\Bigr\\}\\\\\n",
    "&\\text{over} && \\alpha_{i j}\\in[0,1],\\; \\beta_{i j}\\geq 0\\\\\n",
    "&\\text{such that} && \n",
    "\\sum_i \\Bigl(d_{i k}\\alpha_{i k}+\\beta_{i k}\\Bigr)\n",
    "- \\sum_j \\Bigl(d_{k j}\\alpha_{k j}+\\beta_{k j}\\Bigr)\n",
    "=0\n",
    "\\quad\\text{for all }k\n",
    "\\end{align}\n",
    "where\n",
    "\\begin{align}\n",
    "U(\\alpha,c) &= \\alpha(\\text{bias}-\\text{psen}\\, c) + (1-\\alpha)(\\text{bias}'-\\text{psen}' \\textit{bp}) + H(\\alpha,1-\\alpha)\\\\\n",
    "H(\\alpha,1-\\alpha) &= - \\alpha \\log \\alpha - (1-\\alpha)\\log(1-\\alpha).\n",
    "\\end{align}\n",
    "The parameters here are\n",
    "* $\\alpha_{i j}$ is the fraction of demand from $i$ to $j$ that chooses rideshare\n",
    "* $d_{i j}$ is the total demand\n",
    "* $\\beta_{i j}$ is the rebalancing flow\n",
    "* $\\textit{bp}_{i j}$ is the bus price\n",
    "* $\\textit{vc}_{i j}$ is the vehicle cost\n",
    "* $\\text{bias}_{i j}$ and $\\text{psen}_{i j}$ are fitted coefficients from the discrete choice model: \n",
    "the utility for a rideshare trip at price $c$ is $(\\text{bias} - \\text{psen}\\,c)$\n",
    "* $\\text{bias}'_{i j}$ and $\\text{psen}'_{i j}$ are fitted coefficients for bus:\n",
    "the utility for a bus trip at price $\\textit{bp}$ is $(\\text{bias}' - \\text{psen}'\\textit{bp})$\n",
    "\n",
    "Note that the utility-maximization theory only works when the rideshare operator is free to set per-route prices.\n",
    "I don't think it can accommodate constraints like \"all prices at a given node must be of the form surge multiplier times vehicle cost\"."
   ]
  },
  {
   "cell_type": "markdown",
   "metadata": {},
   "source": [
    "To translate our problem into cvxopt terminology,\n",
    "\n",
    "* $x$ is the vector with $\\alpha$, $\\beta$ concatenated\n",
    "* $n=2|E|$ is the dimension of $x$\n",
    "* $f_0(x)$ is the negative of our objective, and $m=0$\n",
    "* $Gx \\leq h$ implements the bounds on $\\alpha$ and $\\beta$, $3|E|$ constraints in total, and the default cone is sufficient\n",
    "* $Ax = b$ implements the circulation constraint, $|V|$ constraints in total"
   ]
  },
  {
   "cell_type": "code",
   "execution_count": 11,
   "metadata": {},
   "outputs": [],
   "source": [
    "Route = collections.namedtuple('Route', ['src','dst','demand','vehicle_cost','bus_price'])\n",
    "\n",
    "routes = pandas.DataFrame([Route(src=0, dst=1, demand=10, vehicle_cost=1.5, bus_price=1),\n",
    "                           Route(src=1, dst=0, demand=2, vehicle_cost=1.5, bus_price=6)])\n",
    "routes['u_rideshare_bias'] = 1.55393376\n",
    "routes['u_rideshare_pricesen'] = 0.3034984\n",
    "routes['u_bus_bias'] = 0\n",
    "routes['u_bus_pricesen'] = 0.09368271\n",
    "\n",
    "# The code below needs len(nodes), nothing more; but why not populate it with something useful?\n",
    "nodes = pandas.DataFrame({'id': [0,1], 'lat': [37.834,37.802], 'long': [-122.482,-122.461]})"
   ]
  },
  {
   "cell_type": "code",
   "execution_count": 12,
   "metadata": {},
   "outputs": [],
   "source": [
    "E = len(routes)\n",
    "d,vc,bp = routes['demand'], routes['vehicle_cost'], routes['bus_price']\n",
    "bias,psen = routes['u_rideshare_bias'], routes['u_rideshare_pricesen']\n",
    "biasp,psenp = routes['u_bus_bias'], routes['u_bus_pricesen']\n",
    "\n",
    "# cvxopt has its own matrix type; I'll do all my code in numpy and convert to cvxopt at the last minute\n",
    "def m(x): return cvxopt.matrix(x, tc='d')"
   ]
  },
  {
   "cell_type": "code",
   "execution_count": 13,
   "metadata": {},
   "outputs": [
    {
     "name": "stdout",
     "output_type": "stream",
     "text": [
      "     pcost       dcost       gap    pres   dres   k/t\n",
      " 0:  0.0000e+00 -0.0000e+00  9e+00  4e+00  0e+00  1e+00\n",
      " 1:  5.7974e+00  5.9400e+00  8e-01  5e-01  2e-16  2e-01\n",
      " 2:  5.9977e+00  5.9992e+00  8e-03  5e-03  2e-16  3e-03\n",
      " 3:  6.0000e+00  6.0000e+00  8e-05  5e-05  4e-16  3e-05\n",
      " 4:  6.0000e+00  6.0000e+00  8e-07  5e-07  1e-16  3e-07\n",
      " 5:  6.0000e+00  6.0000e+00  8e-09  5e-09  2e-16  3e-09\n",
      "Optimal solution found.\n"
     ]
    }
   ],
   "source": [
    "# Find a feasible circulation given rideshare demand\n",
    "α0 = np.full_like(d, 0.5, dtype=np.float32)\n",
    "A = np.zeros((len(nodes), len(d)))\n",
    "for ri,(src,dst) in enumerate(zip(routes['src'],routes['dst'])):\n",
    "    A[src,ri] = 1\n",
    "    A[dst,ri] = -1\n",
    "G = - np.identity(len(d))\n",
    "h = np.zeros_like(d)\n",
    "b = - (A @ d*α0)\n",
    "res = cvxopt.solvers.lp(c=m(vc), G=m(G), h=m(h), A=m(A[:-1]), b=m(b[:-1]))\n",
    "β0 = np.array(res['x'])[:,0]\n",
    "β0[np.isclose(β0,0)] = 0"
   ]
  },
  {
   "cell_type": "code",
   "execution_count": 14,
   "metadata": {},
   "outputs": [],
   "source": [
    "def entropy(p):\n",
    "    '''Computes the entropy H(p,1-p), and its first and second derivatives'''\n",
    "    p = np.array(p)\n",
    "    # To avoid warnings when p=0 or p-1, use escape clauses\n",
    "    safe = (p>0) & (p<1)\n",
    "    psafe = np.where(safe, p, 0.5)\n",
    "    f = np.where(safe, - p*np.log(psafe) - (1-p)*np.log(1-psafe), 0)\n",
    "    Df = np.where(safe, np.log((1-psafe)/psafe), np.where(p<.5, np.inf, -np.inf))\n",
    "    D2f = np.where(safe, - 1/p - 1/(1-p), -np.inf)\n",
    "    return (f,Df,D2f)\n",
    "\n",
    "def profit(p):\n",
    "    '''Computes the profit term log(1-p), and its first and second derivatives'''\n",
    "    p = np.array(p)\n",
    "    # To avoid warnings when p=1, use escape clauses\n",
    "    safe = p<1\n",
    "    p = np.where(safe, p, 0.5)\n",
    "    f = np.where(safe, np.log(1-p), -np.inf)\n",
    "    Df = np.where(safe, -1/(1-p), -np.inf)\n",
    "    D2f = np.where(safe, -np.power(1-p,-2), -np.inf)\n",
    "    return (f,Df,D2f)\n",
    "\n",
    "def objective(include_profit=True):\n",
    "    def F(x=None, z=None):\n",
    "        if x is None and z is None:\n",
    "            x0 = np.concatenate([α0,β0])\n",
    "            return (0, m(x0))\n",
    "        x = np.array(x).reshape(-1)\n",
    "        α,β = x[:E], x[E:]\n",
    "        (entr,Dentr,D2entr) = entropy(α)\n",
    "        (prof,Dprof,D2prof) = profit(α) if include_profit else np.zeros((3,E))\n",
    "        implied_utility = d/psen * (α*(bias-psen*vc) + (1-α)*(biasp-psenp*bp) + entr + prof) - β*vc\n",
    "        Dα = d/psen * (bias-psen*vc - biasp+psenp*bp + Dentr + Dprof)\n",
    "        Dβ = -vc\n",
    "        f = - np.sum(implied_utility)\n",
    "        Df = - np.concatenate([Dα,Dβ])\n",
    "        if (z is None):\n",
    "            return (m(f), m(Df[None,:]))\n",
    "        [[z]] = np.array(z)\n",
    "        Dαα = d/psen * (D2entr + D2prof)\n",
    "        D2f = np.concatenate([- Dαα, np.zeros(E)])\n",
    "        H = cvxopt.spmatrix(D2f, np.arange(2*E), np.arange(2*E))\n",
    "        return (m(f), m(Df[None,:]), m(H))\n",
    "    return F\n",
    "\n",
    "F = objective(include_profit=True)\n",
    "\n",
    "i = np.eye(E)\n",
    "z = np.zeros((E,E))\n",
    "G = np.block([[-i, z], [i, z], [z, -i]])\n",
    "h = np.concatenate([np.zeros(E), np.ones(E), np.zeros(E)])\n",
    "\n",
    "A = np.zeros((len(nodes), 2*E))\n",
    "for e,(demand,src,dst) in enumerate(zip(d,routes['src'],routes['dst'])):\n",
    "    A[src, e] = - demand\n",
    "    A[dst, e] = demand\n",
    "    A[src, e+E] = - 1\n",
    "    A[dst, e+E] = 1\n",
    "# Assuming the graph is strongly connected, we have one redundant equation,\n",
    "# which we might as well take to be the last one.\n",
    "A = A[:-1]\n",
    "b = np.zeros(len(nodes)-1)"
   ]
  },
  {
   "cell_type": "markdown",
   "metadata": {},
   "source": [
    "### Sanity check"
   ]
  },
  {
   "cell_type": "markdown",
   "metadata": {},
   "source": [
    "I've defined constraints $Gx\\leq h$ and $Ax=b$. Are these constraints satisfied for the initial guess?"
   ]
  },
  {
   "cell_type": "code",
   "execution_count": 15,
   "metadata": {},
   "outputs": [
    {
     "name": "stdout",
     "output_type": "stream",
     "text": [
      "[ True  True  True  True  True  True]\n",
      "[ True]\n"
     ]
    }
   ],
   "source": [
    "x0 = np.array(F()[1])[:,0]\n",
    "print((G @ x0 <= h) | np.isclose(G @ x0, h))\n",
    "print(np.isclose(A @ x0, b))"
   ]
  },
  {
   "cell_type": "markdown",
   "metadata": {},
   "source": [
    "I've also defined a function $F$ which is meant to return the first and second derivatives. It's a good idea to check they're right, with numerical differentiation:\n",
    "$$\n",
    "\\frac{\\partial f}{\\partial x_i} \n",
    "\\approx \n",
    "\\frac{f(x+\\delta e_i)-f(x-\\delta e_i)}{2\\delta}\\\\\n",
    "\\frac{\\partial^2 f}{\\partial x_i \\partial x_j} \n",
    "\\approx\n",
    "\\frac{f(x+\\delta e_i + \\delta e_j) - f(x+\\delta e_i-\\delta e_j) - f(x-\\delta e_i+\\delta e_j) + f(x-\\delta e_i-\\delta e_j)}{4\\delta^2}\n",
    "$$"
   ]
  },
  {
   "cell_type": "code",
   "execution_count": 16,
   "metadata": {},
   "outputs": [],
   "source": [
    "def units(x):\n",
    "    return [(np.arange(len(x))==i).astype(np.double) for i in range(len(x))]\n",
    "def Dnum(f, x, δ):\n",
    "    return np.array([(f(x+δ*e) - f(x-δ*e))/2/δ for e in units(x)])\n",
    "def D2num(f, x, δ):\n",
    "    return np.array([[(f(x+δ*ei+δ*ej)-f(x+δ*ei-δ*ej)-f(x-δ*ei+δ*ej)+f(x-δ*ei-δ*ej))/(4*δ*δ)\n",
    "                      for ei in units(x)] for ej in units(x)])"
   ]
  },
  {
   "cell_type": "code",
   "execution_count": 17,
   "metadata": {},
   "outputs": [
    {
     "name": "stdout",
     "output_type": "stream",
     "text": [
      "Derivative as reported by F:\n",
      "[[26.61072118  2.23538299  1.5         1.5       ]]\n",
      "\n",
      "Numerical derivative:\n",
      "[26.61950971  2.23714069  1.5         1.5       ]\n"
     ]
    }
   ],
   "source": [
    "_,x0 = F()\n",
    "f,Df,D2f = F(x0,[[1]])\n",
    "\n",
    "print(\"Derivative as reported by F:\")\n",
    "print(np.array(Df))\n",
    "print(\"\\nNumerical derivative:\")\n",
    "print(Dnum(lambda x: np.array(F(m(x))[0])[0,0], np.array(x0)[:,0], .01))"
   ]
  },
  {
   "cell_type": "code",
   "execution_count": 18,
   "metadata": {},
   "outputs": [
    {
     "name": "stdout",
     "output_type": "stream",
     "text": [
      "Hermitian as reported by F:\n",
      "[[263.59282   0.        0.        0.     ]\n",
      " [  0.       52.71856   0.        0.     ]\n",
      " [  0.        0.        0.        0.     ]\n",
      " [  0.        0.        0.        0.     ]]\n",
      "\n",
      "Numerical Hermitian:\n",
      "[[263.59423   0.        0.        0.     ]\n",
      " [  0.       52.71885   0.        0.     ]\n",
      " [  0.        0.        0.        0.     ]\n",
      " [  0.        0.        0.        0.     ]]\n"
     ]
    }
   ],
   "source": [
    "print(\"Hermitian as reported by F:\")\n",
    "print(np.round(np.array(D2f),5))\n",
    "print(\"\\nNumerical Hermitian:\")\n",
    "print(np.round(D2num(lambda x: np.array(F(m(x))[0])[0,0], np.array(x0)[:,0], .001), 5))"
   ]
  },
  {
   "cell_type": "markdown",
   "metadata": {},
   "source": [
    "### Verification\n",
    "\n",
    "On the two-link network defined at the top of the file, it's not too much work to do an exhaustive manual search to find the optimal prices."
   ]
  },
  {
   "cell_type": "code",
   "execution_count": 144,
   "metadata": {},
   "outputs": [],
   "source": [
    "def logit(p): return np.log(p/(1-p))\n",
    "def invlogit(x): return np.exp(x) / (1 + np.exp(x))\n",
    "\n",
    "E = len(routes)\n",
    "assert E==2\n",
    "d,vc,bp = routes['demand'], routes['vehicle_cost'], routes['bus_price']\n",
    "bias,psen = routes['u_rideshare_bias'], routes['u_rideshare_pricesen']\n",
    "biasp,psenp = routes['u_bus_bias'], routes['u_bus_pricesen']\n",
    "\n",
    "def optα(μ):\n",
    "    μ = np.array(μ)\n",
    "    u1 = bias - psen*μ\n",
    "    u2 = biasp - psenp*bp\n",
    "    return invlogit(u1 - u2)\n",
    "\n",
    "def rebalance(dα):\n",
    "    if dα[0]>dα[1]:\n",
    "        return np.array([0,dα[0]-dα[1]]) \n",
    "    else:\n",
    "        return np.array([dα[1]-dα[0],0])\n",
    "\n",
    "def net_profit(μ): \n",
    "    dα = d * optα(μ)\n",
    "    β = rebalance(dα)\n",
    "    return np.sum(dα * μ - (dα + β) * vc)"
   ]
  },
  {
   "cell_type": "code",
   "execution_count": 145,
   "metadata": {},
   "outputs": [
    {
     "data": {
      "text/plain": [
       "array([0.])"
      ]
     },
     "execution_count": 145,
     "metadata": {},
     "output_type": "execute_result"
    }
   ],
   "source": [
    "# Check that rebalancing produces a balanced flow\n",
    "α = optα([5,5])\n",
    "β = rebalance(d * α)\n",
    "A @ np.concatenate([α,β])"
   ]
  },
  {
   "cell_type": "code",
   "execution_count": 146,
   "metadata": {},
   "outputs": [
    {
     "name": "stdout",
     "output_type": "stream",
     "text": [
      "Optimization terminated successfully.\n",
      "         Current function value: -22.698174\n",
      "         Iterations: 57\n",
      "         Function evaluations: 108\n",
      "[7.86698585 6.7837411 ] [0.3230038929805614, 0.514289970231564]\n"
     ]
    }
   ],
   "source": [
    "# Find the profit-maximizing price vector\n",
    "optμ = scipy.optimize.fmin(lambda x: -net_profit(x), x0=[1,1])\n",
    "print(optμ, list(optα(optμ)))"
   ]
  },
  {
   "cell_type": "code",
   "execution_count": 153,
   "metadata": {},
   "outputs": [
    {
     "name": "stdout",
     "output_type": "stream",
     "text": [
      "     pcost       dcost       gap    pres   dres\n",
      " 0:  0.0000e+00 -1.8325e+01  7e+00  1e+00  1e+00\n",
      "first lapack.potrf 0 4\n",
      "[265.59282289  54.71856458   1.           1.        ]\n",
      "[[265.59282   0.        0.        0.     ]\n",
      " [  0.       54.71856   0.        0.     ]\n",
      " [  0.        0.        1.        0.     ]\n",
      " [  0.        0.        0.        1.     ]]\n",
      " 1: -8.8574e+00 -1.8833e+01  4e+00  6e-01  6e-01\n",
      " 2: -1.3530e+01 -1.7028e+01  2e+00  2e-01  3e-01\n",
      " 3: -1.6120e+01 -1.6272e+01  4e-01  2e-02  3e-03\n",
      " 4: -1.5910e+01 -1.5913e+01  6e-03  3e-04  3e-05\n",
      " 5: -1.5907e+01 -1.5907e+01  6e-05  3e-06  3e-07\n",
      " 6: -1.5907e+01 -1.5907e+01  6e-07  3e-08  3e-09\n",
      "Optimal solution found.\n"
     ]
    },
    {
     "data": {
      "text/plain": [
       "(array([0.32300524, 0.51429155]),\n",
       " array([3.85148525e-09, 2.20146927e+00]),\n",
       " array([-1.49999998,  0.        ]))"
      ]
     },
     "execution_count": 153,
     "metadata": {},
     "output_type": "execute_result"
    }
   ],
   "source": [
    "res = cvxopt.solvers.cp(F, G=m(G), h=m(h[:,None]), A=m(A), b=m(b[:,None]))\n",
    "x = np.array(res['x'])[:,0]\n",
    "αopt,βopt = x[:E], x[E:]\n",
    "ξopt = np.append(np.array(res['y']), 0)\n",
    "(αopt, βopt, ξopt)"
   ]
  },
  {
   "cell_type": "markdown",
   "metadata": {},
   "source": [
    "## Read off prices, shadow prices, profit\n",
    "\n",
    "A network basically behaves like a collection of individual links, joined together through the shadow prices at each node.\n",
    "Following the analysis of a single isolated link,\n",
    "$$\n",
    "\\hat{\\mu} = \\textit{vc} + \\xi_{\\text{dst}} - \\xi_{\\text{src}} + \\frac{1}{\\text{psen}(1-\\hat{\\alpha})}\n",
    "$$"
   ]
  },
  {
   "cell_type": "code",
   "execution_count": 154,
   "metadata": {},
   "outputs": [
    {
     "data": {
      "text/plain": [
       "0    7.866966\n",
       "1    6.783720\n",
       "dtype: float64"
      ]
     },
     "execution_count": 154,
     "metadata": {},
     "output_type": "execute_result"
    }
   ],
   "source": [
    "rebalancing_cost = ξopt[routes['dst']] - ξopt[routes['src']]\n",
    "profit = 1/(psen*(1-αopt))\n",
    "vc + rebalancing_cost + profit"
   ]
  },
  {
   "cell_type": "markdown",
   "metadata": {},
   "source": [
    "# 3. Social welfare maximization"
   ]
  },
  {
   "cell_type": "markdown",
   "metadata": {},
   "source": [
    "Our utility maximization problem is exactly the same as before but without the profit dis-utility term $\\log(1-\\alpha)$. In other words, the problem is\n",
    "\n",
    "\\begin{align}\n",
    "&\\text{maximize} && \n",
    "\\sum_{i,j} \\Bigl\\{ \n",
    "\\frac{d_{i j}}{\\text{psen}_{i j}} U_{i j}(\\alpha_{i j}, \\textit{vc}_{i j})\n",
    "  - \\beta_{i j} \\textit{vc}_{i j}\n",
    "  \\Bigr\\}\\\\\n",
    "&\\text{over} && \\alpha_{i j}\\in[0,1],\\; \\beta_{i j}\\geq 0\\\\\n",
    "&\\text{such that} && \n",
    "\\sum_i \\Bigl(d_{i k}\\alpha_{i k}+\\beta_{i k}\\Bigr)\n",
    "- \\sum_j \\Bigl(d_{k j}\\alpha_{k j}+\\beta_{k j}\\Bigr)\n",
    "=0\n",
    "\\quad\\text{for all }k\n",
    "\\end{align}\n",
    "where\n",
    "\\begin{align}\n",
    "U(\\alpha,c) &= \\alpha(\\text{bias}-\\text{psen}\\, c) + (1-\\alpha)(\\text{bias}'-\\text{psen}' \\textit{bp}) + H(\\alpha,1-\\alpha)\\\\\n",
    "H(\\alpha,1-\\alpha) &= - \\alpha \\log \\alpha - (1-\\alpha)\\log(1-\\alpha).\n",
    "\\end{align}\n"
   ]
  },
  {
   "cell_type": "code",
   "execution_count": 19,
   "metadata": {},
   "outputs": [
    {
     "name": "stdout",
     "output_type": "stream",
     "text": [
      "     pcost       dcost       gap    pres   dres\n",
      " 0:  0.0000e+00 -4.5731e+01  7e+00  1e+00  1e+00\n",
      " 1: -1.6736e+01 -4.6858e+01  5e+00  7e-01  7e-01\n",
      " 2: -2.6606e+01 -4.5449e+01  3e+00  5e-01  5e-01\n",
      " 3: -4.6286e+01 -4.5801e+01  9e-01  4e-02  5e-02\n",
      " 4: -4.5175e+01 -4.5126e+01  6e-02  3e-03  4e-03\n",
      " 5: -4.5077e+01 -4.5076e+01  2e-03  9e-05  1e-04\n",
      " 6: -4.5074e+01 -4.5074e+01  2e-05  9e-07  2e-06\n",
      " 7: -4.5074e+01 -4.5074e+01  2e-07  9e-09  2e-08\n",
      "Optimal solution found.\n"
     ]
    },
    {
     "data": {
      "text/plain": [
       "(array([0.67636604, 0.89245149]),\n",
       " array([5.91779426e-09, 4.97875742e+00]),\n",
       " array([-1.49999999,  0.        ]))"
      ]
     },
     "execution_count": 19,
     "metadata": {},
     "output_type": "execute_result"
    }
   ],
   "source": [
    "res = cvxopt.solvers.cp(objective(include_profit=False), G=m(G), h=m(h[:,None]), A=m(A), b=m(b[:,None]))\n",
    "x = np.array(res['x'])[:,0]\n",
    "αopt,βopt = x[:E], x[E:]\n",
    "ξopt = np.append(np.array(res['y']), 0)\n",
    "(αopt, βopt, ξopt)"
   ]
  },
  {
   "cell_type": "code",
   "execution_count": 28,
   "metadata": {},
   "outputs": [
    {
     "data": {
      "text/plain": [
       "0    3.000000e+00\n",
       "1    9.248394e-09\n",
       "Name: vehicle_cost, dtype: float64"
      ]
     },
     "execution_count": 28,
     "metadata": {},
     "output_type": "execute_result"
    }
   ],
   "source": [
    "rebalancing_cost = ξopt[routes['dst']] - ξopt[routes['src']]\n",
    "price = vc + rebalancing_cost\n",
    "price"
   ]
  },
  {
   "cell_type": "code",
   "execution_count": 29,
   "metadata": {},
   "outputs": [
    {
     "data": {
      "text/plain": [
       "0    6.76366\n",
       "1    6.76366\n",
       "Name: demand, dtype: float64"
      ]
     },
     "execution_count": 29,
     "metadata": {},
     "output_type": "execute_result"
    }
   ],
   "source": [
    "d * αopt + βopt"
   ]
  },
  {
   "cell_type": "code",
   "execution_count": 26,
   "metadata": {},
   "outputs": [
    {
     "data": {
      "text/html": [
       "<div>\n",
       "<style scoped>\n",
       "    .dataframe tbody tr th:only-of-type {\n",
       "        vertical-align: middle;\n",
       "    }\n",
       "\n",
       "    .dataframe tbody tr th {\n",
       "        vertical-align: top;\n",
       "    }\n",
       "\n",
       "    .dataframe thead th {\n",
       "        text-align: right;\n",
       "    }\n",
       "</style>\n",
       "<table border=\"1\" class=\"dataframe\">\n",
       "  <thead>\n",
       "    <tr style=\"text-align: right;\">\n",
       "      <th></th>\n",
       "      <th>src</th>\n",
       "      <th>dst</th>\n",
       "      <th>demand</th>\n",
       "      <th>vehicle_cost</th>\n",
       "      <th>bus_price</th>\n",
       "      <th>u_rideshare_bias</th>\n",
       "      <th>u_rideshare_pricesen</th>\n",
       "      <th>u_bus_bias</th>\n",
       "      <th>u_bus_pricesen</th>\n",
       "    </tr>\n",
       "  </thead>\n",
       "  <tbody>\n",
       "    <tr>\n",
       "      <th>0</th>\n",
       "      <td>0</td>\n",
       "      <td>1</td>\n",
       "      <td>10</td>\n",
       "      <td>1.5</td>\n",
       "      <td>1</td>\n",
       "      <td>1.553934</td>\n",
       "      <td>0.303498</td>\n",
       "      <td>0</td>\n",
       "      <td>0.093683</td>\n",
       "    </tr>\n",
       "    <tr>\n",
       "      <th>1</th>\n",
       "      <td>1</td>\n",
       "      <td>0</td>\n",
       "      <td>2</td>\n",
       "      <td>1.5</td>\n",
       "      <td>6</td>\n",
       "      <td>1.553934</td>\n",
       "      <td>0.303498</td>\n",
       "      <td>0</td>\n",
       "      <td>0.093683</td>\n",
       "    </tr>\n",
       "  </tbody>\n",
       "</table>\n",
       "</div>"
      ],
      "text/plain": [
       "   src  dst  demand  vehicle_cost  bus_price  u_rideshare_bias  \\\n",
       "0    0    1      10           1.5          1          1.553934   \n",
       "1    1    0       2           1.5          6          1.553934   \n",
       "\n",
       "   u_rideshare_pricesen  u_bus_bias  u_bus_pricesen  \n",
       "0              0.303498           0        0.093683  \n",
       "1              0.303498           0        0.093683  "
      ]
     },
     "execution_count": 26,
     "metadata": {},
     "output_type": "execute_result"
    }
   ],
   "source": [
    "routes"
   ]
  },
  {
   "cell_type": "code",
   "execution_count": 32,
   "metadata": {},
   "outputs": [
    {
     "data": {
      "text/plain": [
       "0    0.676366\n",
       "1    0.892451\n",
       "dtype: float64"
      ]
     },
     "execution_count": 32,
     "metadata": {},
     "output_type": "execute_result"
    }
   ],
   "source": [
    "u1 = bias - psen * price\n",
    "u2 = biasp - psenp * bp\n",
    "invlogit(u1 - u2)"
   ]
  }
 ],
 "metadata": {
  "kernelspec": {
   "display_name": "Python 3 (ipykernel)",
   "language": "python",
   "name": "python3"
  },
  "language_info": {
   "codemirror_mode": {
    "name": "ipython",
    "version": 3
   },
   "file_extension": ".py",
   "mimetype": "text/x-python",
   "name": "python",
   "nbconvert_exporter": "python",
   "pygments_lexer": "ipython3",
   "version": "3.9.12"
  }
 },
 "nbformat": 4,
 "nbformat_minor": 2
}
