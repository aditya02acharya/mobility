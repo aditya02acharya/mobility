{
 "cells": [
  {
   "cell_type": "markdown",
   "metadata": {},
   "source": [
    "# Assignment model, by exhaustive optimization.\n",
    "\n",
    "This code uses very naive optimization. It's good for sanity checking a result, not good for actually running anything."
   ]
  },
  {
   "cell_type": "code",
   "execution_count": 1,
   "metadata": {},
   "outputs": [],
   "source": [
    "import numpy as np\n",
    "import scipy.optimize\n",
    "import pandas\n",
    "import collections\n",
    "import contextlib, io, IPython.display # for some nifty tricks with printout output\n",
    "import ipyleaflet\n",
    "import shapefile # for parsing a shapefile into geojson\n",
    "import branca # for colourmaps\n",
    "import matplotlib.pyplot as plt"
   ]
  },
  {
   "cell_type": "markdown",
   "metadata": {},
   "source": [
    "## Dummy data\n",
    "\n",
    "The rest of the code assumes a network with $V$ nodes and $E$ edges/routes, and a dataframe `routes` with $E$ rows and with columns for\n",
    "\n",
    "* `demand`, `vehicle_cost`, `bus_price`\n",
    "* `src`, `dst` (integer indexes in the range $0,\\dots,V-1$)"
   ]
  },
  {
   "cell_type": "code",
   "execution_count": 2,
   "metadata": {},
   "outputs": [],
   "source": [
    "routes = pandas.DataFrame({'src': [0,1], 'dst': [1,0], 'demand': [10.0,2.0], 'vehicle_cost': [1.5,1.5], 'bus_price': [1.0,6.0]})\n",
    "nodes = pandas.DataFrame({'id': [0,1], 'lat': [37.834,37.802], 'long': [-122.482,-122.461]})"
   ]
  },
  {
   "cell_type": "markdown",
   "metadata": {},
   "source": [
    "## Data import"
   ]
  },
  {
   "cell_type": "code",
   "execution_count": 126,
   "metadata": {},
   "outputs": [
    {
     "data": {
      "text/html": [
       "<div>\n",
       "<style scoped>\n",
       "    .dataframe tbody tr th:only-of-type {\n",
       "        vertical-align: middle;\n",
       "    }\n",
       "\n",
       "    .dataframe tbody tr th {\n",
       "        vertical-align: top;\n",
       "    }\n",
       "\n",
       "    .dataframe thead th {\n",
       "        text-align: right;\n",
       "    }\n",
       "</style>\n",
       "<table border=\"1\" class=\"dataframe\">\n",
       "  <thead>\n",
       "    <tr style=\"text-align: right;\">\n",
       "      <th></th>\n",
       "      <th>original_idx</th>\n",
       "      <th>orig_tract</th>\n",
       "      <th>des_tract</th>\n",
       "      <th>orig_lat</th>\n",
       "      <th>orig_long</th>\n",
       "      <th>des_lat</th>\n",
       "      <th>des_long</th>\n",
       "      <th>startime</th>\n",
       "      <th>endtime</th>\n",
       "      <th>mode</th>\n",
       "      <th>hhincome</th>\n",
       "      <th>day</th>\n",
       "      <th>ampm_start</th>\n",
       "      <th>taxi_price</th>\n",
       "      <th>orig_city</th>\n",
       "      <th>des_city</th>\n",
       "      <th>bus_price</th>\n",
       "      <th>fuel_cost</th>\n",
       "      <th>distance</th>\n",
       "      <th>duration</th>\n",
       "    </tr>\n",
       "  </thead>\n",
       "  <tbody>\n",
       "    <tr>\n",
       "      <th>0</th>\n",
       "      <td>665</td>\n",
       "      <td>18000</td>\n",
       "      <td>23300</td>\n",
       "      <td>37.776100</td>\n",
       "      <td>-122.402466</td>\n",
       "      <td>37.723828</td>\n",
       "      <td>-122.398391</td>\n",
       "      <td>825</td>\n",
       "      <td>855</td>\n",
       "      <td>17</td>\n",
       "      <td>6</td>\n",
       "      <td>1</td>\n",
       "      <td>1</td>\n",
       "      <td>11.0</td>\n",
       "      <td>SF</td>\n",
       "      <td>SF</td>\n",
       "      <td>2.750000</td>\n",
       "      <td>2.077387</td>\n",
       "      <td>7072.7</td>\n",
       "      <td>436.1</td>\n",
       "    </tr>\n",
       "    <tr>\n",
       "      <th>1</th>\n",
       "      <td>675</td>\n",
       "      <td>18000</td>\n",
       "      <td>23400</td>\n",
       "      <td>37.776100</td>\n",
       "      <td>-122.402466</td>\n",
       "      <td>37.721959</td>\n",
       "      <td>-122.389712</td>\n",
       "      <td>2285</td>\n",
       "      <td>2290</td>\n",
       "      <td>17</td>\n",
       "      <td>6</td>\n",
       "      <td>2</td>\n",
       "      <td>1</td>\n",
       "      <td>14.0</td>\n",
       "      <td>SF</td>\n",
       "      <td>SF</td>\n",
       "      <td>2.750000</td>\n",
       "      <td>2.413856</td>\n",
       "      <td>7976.4</td>\n",
       "      <td>515.5</td>\n",
       "    </tr>\n",
       "    <tr>\n",
       "      <th>2</th>\n",
       "      <td>1412</td>\n",
       "      <td>252102</td>\n",
       "      <td>252106</td>\n",
       "      <td>38.092052</td>\n",
       "      <td>-122.109933</td>\n",
       "      <td>38.075442</td>\n",
       "      <td>-122.167755</td>\n",
       "      <td>705</td>\n",
       "      <td>720</td>\n",
       "      <td>40</td>\n",
       "      <td>12</td>\n",
       "      <td>1</td>\n",
       "      <td>0</td>\n",
       "      <td>10.0</td>\n",
       "      <td>Solano County</td>\n",
       "      <td>Solano County</td>\n",
       "      <td>10.833333</td>\n",
       "      <td>2.298146</td>\n",
       "      <td>6785.4</td>\n",
       "      <td>520.1</td>\n",
       "    </tr>\n",
       "  </tbody>\n",
       "</table>\n",
       "</div>"
      ],
      "text/plain": [
       "   original_idx  orig_tract  des_tract   orig_lat   orig_long    des_lat  \\\n",
       "0           665       18000      23300  37.776100 -122.402466  37.723828   \n",
       "1           675       18000      23400  37.776100 -122.402466  37.721959   \n",
       "2          1412      252102     252106  38.092052 -122.109933  38.075442   \n",
       "\n",
       "     des_long  startime  endtime  mode  hhincome  day  ampm_start  taxi_price  \\\n",
       "0 -122.398391       825      855    17         6    1           1        11.0   \n",
       "1 -122.389712      2285     2290    17         6    2           1        14.0   \n",
       "2 -122.167755       705      720    40        12    1           0        10.0   \n",
       "\n",
       "       orig_city       des_city  bus_price  fuel_cost  distance  duration  \n",
       "0             SF             SF   2.750000   2.077387    7072.7     436.1  \n",
       "1             SF             SF   2.750000   2.413856    7976.4     515.5  \n",
       "2  Solano County  Solano County  10.833333   2.298146    6785.4     520.1  "
      ]
     },
     "execution_count": 126,
     "metadata": {},
     "output_type": "execute_result"
    }
   ],
   "source": [
    "# Read in the trip dataset\n",
    "trips = pandas.read_csv(\"../data/source_des_with_taxi_and_bus_and_city_and_fuel.csv\", sep=',')\n",
    "trips = trips.drop(['Unnamed: 0'], axis=1)\n",
    "trips.iloc[:3]"
   ]
  },
  {
   "cell_type": "code",
   "execution_count": 127,
   "metadata": {},
   "outputs": [],
   "source": [
    "# Helper function to make it cleaner to call DataFrame.apply\n",
    "def dict_to_series(f):\n",
    "    def g(*args, **kwargs):\n",
    "        d = f(*args, **kwargs)\n",
    "        k,v = zip(*d.items())\n",
    "        return pandas.Series(v, index=k)\n",
    "    return g\n",
    "\n",
    "@dict_to_series\n",
    "def aggfunc(df):\n",
    "    return {'demand': len(df),\n",
    "            'bus_price': np.mean(df['bus_price']),\n",
    "            'vehicle_cost': np.mean(df['fuel_cost']), # note: this column already includes driver wage\n",
    "            'distance': np.mean(df['distance'])\n",
    "           }\n",
    "\n",
    "routes = trips.groupby(['orig_tract','des_tract']).apply(aggfunc).reset_index()\n",
    "\n",
    "# Get a list of all nodes (tracts / locations), with lat+lng.\n",
    "\n",
    "n1 = trips[['orig_tract','orig_lat','orig_long']] \\\n",
    "    .rename(columns={'orig_tract':'tract', 'orig_lat':'lat', 'orig_long':'long'})\n",
    "n2 = trips[['des_tract','des_lat','des_long']] \\\n",
    "    .rename(columns={'des_tract':'tract', 'des_lat':'lat', 'des_long':'long'})\n",
    "n1['dir'] = 1\n",
    "n2['dir'] = -1\n",
    "\n",
    "@dict_to_series\n",
    "def aggfunc(df):\n",
    "    return {'lat': np.mean(df['lat']),\n",
    "            'long': np.mean(df['long']),\n",
    "            'flow_out': np.count_nonzero(df['dir']==1),\n",
    "            'flow_in': np.count_nonzero(df['dir']==-1)}\n",
    "\n",
    "nodes = pandas.concat([n1,n2]).groupby('tract').apply(aggfunc).reset_index()\n",
    "nodes.set_index('tract', inplace=True, drop=False)\n",
    "\n",
    "# Create route.src and route.dst, with integer indexes\n",
    "# For the matrix work, we'll want a standard ordering of all nodes, as specified by these indexes.\n",
    "# To retrieve real-world attributes of the nodes, see nodes[src]\n",
    "\n",
    "node_index = {n:i for i,n in enumerate(nodes['tract'])}\n",
    "routes['src'] = [node_index[t] for t in routes['orig_tract']]\n",
    "routes['dst'] = [node_index[t] for t in routes['des_tract']]"
   ]
  },
  {
   "cell_type": "code",
   "execution_count": 128,
   "metadata": {},
   "outputs": [],
   "source": [
    "# To speed things up, let's work with a subset of nodes.\n",
    "\n",
    "(b,l),(t,r) = (37.7545,-122.5137), (37.8109,-122.3753)\n",
    "nodes['ok'] = (nodes['lat'] >= b) & (nodes['lat'] <= t) & (nodes['long'] >= l) & (nodes['long'] <= r)\n",
    "routes['ok'] = nodes['ok'].loc[routes['orig_tract']].values & nodes['ok'].loc[routes['des_tract']].values\n",
    "\n",
    "# If we're not careful, we could end up with an infeasible circulation problem.\n",
    "# To make sure it's feasible, we'll further require that for every edge i->j there is an edge j->i\n",
    "\n",
    "rev_routes = pandas.DataFrame({'orig_tract': routes['des_tract'], 'des_tract': routes['orig_tract'], 'reverse_ok': routes['ok']})\n",
    "rev_routes = rev_routes.loc[rev_routes['reverse_ok']]\n",
    "routes2 = routes.merge(rev_routes, on=['orig_tract','des_tract'], how='outer')\n",
    "routes2['reverse_ok'] = ~pandas.isnull(routes2['reverse_ok'])\n",
    "\n",
    "# Re-index the nodes, so that src and dst only count the nodes we're keeping\n",
    "\n",
    "nodes = nodes.loc[nodes['ok']]\n",
    "routes = routes2.loc[routes2['ok'] & routes2['reverse_ok']].copy()\n",
    "                     \n",
    "node_index = {n:i for i,n in enumerate(nodes['tract'])}\n",
    "routes['src'] = [node_index[t] for t in routes['orig_tract']]\n",
    "routes['dst'] = [node_index[t] for t in routes['des_tract']]"
   ]
  },
  {
   "cell_type": "markdown",
   "metadata": {},
   "source": [
    "## Network flow optimization (illustration)\n",
    "\n",
    "Given (a) required passenger flow, (b) cost per unit flow for empty vehicles, find the optimal rebalancing flow.\n",
    "\n",
    "The circulation constraint is\n",
    "$$\n",
    "\\sum_k (a_{k i}+\\beta_{k i}) = \\sum_k (a_{i k}+\\beta_{i k}) \\quad\\text{for all }i\n",
    "$$\n",
    "where $a_{i j}$ is the required passenger flow $i\\to j$ and $\\beta_{i j}$ is the empty vehicle flow. Rewriting this constraint in matrix form,\n",
    "$$\n",
    "A . \\beta = - A . a\n",
    "$$\n",
    "where\n",
    "$$\n",
    "A_{i e} = \\begin{cases} 1 & \\text{if }e=i\\to \\cdot\\\\ -1 & \\text{if }e=\\cdot\\to i \\\\ 0 & \\text{else} \\end{cases}\n",
    "$$\n",
    "The objective is to minimize the rebalancing cost,\n",
    "$$\n",
    "\\sum_e \\beta_{i j} c_{i j}\n",
    "$$\n",
    "where $c_{i j}$ is the raw cost for a vehicle to travel $i\\to j$.\n",
    "\n",
    "We'll use `linprog`, to find the optimal rebalancing flow $\\beta$.\n",
    "```\n",
    "scipy.optimize.linprog(c, A_eq, b_eq, bounds=(0,None), x0=None):\n",
    "    minimize c @ x\n",
    "    over x >= 0\n",
    "    such that A_eq @ x = b_eq\n",
    "    starting from guess x0\n",
    "```"
   ]
  },
  {
   "cell_type": "code",
   "execution_count": null,
   "metadata": {},
   "outputs": [],
   "source": [
    "A = np.zeros((len(nodes), len(routes)))\n",
    "for i,(src,dst) in enumerate(zip(routes['src'], routes['dst'])):\n",
    "    A[src, i] = 1\n",
    "    A[dst, i] = -1"
   ]
  },
  {
   "cell_type": "code",
   "execution_count": null,
   "metadata": {},
   "outputs": [],
   "source": [
    "# A has rank |E|-1, because one of the circulation constraints is necessarily redundant.\n",
    "# Delete an arbitrary row of A, so that scipy doesn't grumble.\n",
    "\n",
    "res = scipy.optimize.linprog(c = routes['vehicle_cost'], \n",
    "                             A_eq = A[:-1], \n",
    "                             b_eq = -(A @ routes['demand'])[:-1], \n",
    "                             bounds = (0,None),\n",
    "                             method = 'interior-point',\n",
    "                             options = {\"disp\": True, \"tol\":1e-2, \"maxiter\":1e4})"
   ]
  },
  {
   "cell_type": "markdown",
   "metadata": {},
   "source": [
    "Theory says that the true \"accounting\" cost for rideshare on a link $i\\to j$ is\n",
    "$$\n",
    "m_{i j} = c_{i j} - \\xi_i + \\xi_j\n",
    "$$\n",
    "where $c_{i j}$ is the cost of running the vehicle, and $\\xi_i$ is the dual variable associated with the circulation constraint at node $i$.\n",
    "\n",
    "```\n",
    "PRIMAL: minimize c @ x,  over x >= 0,  such that A @ x = b\n",
    "DUAL:   maximize b @ z,  over z,       such that A.T @ z <= c\n",
    "```"
   ]
  },
  {
   "cell_type": "code",
   "execution_count": null,
   "metadata": {
    "scrolled": false
   },
   "outputs": [],
   "source": [
    "dual = scipy.optimize.linprog(c = A @ routes['demand'],\n",
    "                              A_ub = A.T,\n",
    "                              b_ub = routes['vehicle_cost'],\n",
    "                              bounds = (None,None),\n",
    "                              #method = 'interior-point',\n",
    "                              options = {\"disp\": True, \"maxiter\": 3000})"
   ]
  },
  {
   "cell_type": "markdown",
   "metadata": {},
   "source": [
    "## Full assignment model\n",
    "\n",
    "Here we compute the optimal rideshare prices, and hence the optimal fraction of demand that uses rideshare $\\alpha$,\n",
    "as well as the rebalancing flows $\\beta$ and the shadow prices $\\xi$ at each node. \n",
    "For a for-profit rideshare operator, the objective is to choose prices so as to maximize overall profit. For this, we can treat $\\alpha$ and $\\beta$ as functions of the price, and seek profit-maximizing prices. \n",
    "The fundamental relationship is\n",
    "$$\n",
    "\\text{rideshare_price}_{i j} = \\text{vehicle_cost}_{i j} - \\xi_i + \\xi_j + \\text{profit}_{i j}\n",
    "$$\n",
    "Hence there are two ways to compute net profit:\n",
    "$$\n",
    "\\text{net_profit} \n",
    "= \n",
    "d\\alpha\\cdot\\text{price} - (d\\alpha+\\beta)\\cdot\\text{vc}\n",
    "=\n",
    "d\\alpha\\cdot(\\text{price}-(\\text{vc}+\\text{rb}))\n",
    "$$\n",
    "where $\\text{rb}$ is the rebalancing cost on a route, $\\text{rb}_{i j}=\\xi_j-\\xi_i$.\n",
    "This fundamental relationship therefore gives us a breakdown of money flows, i.e. a way to \n",
    "attribute the rideshare price.\n",
    "\n",
    "For a non-profit rideshare operator, the objective is to maximize total user utility, subject to collecting enough money to cover operating costs. It would be best to solve this as a global optimization. For the time being, I've implemented this as (1) pick prices, (2) infer $\\alpha$, (3) work out the cheapest $\\beta$ and shadow prices $\\xi$, (4) if the shadow prices tell us that we're not charging enough on a particular route, then bump up the price on that route but don't change $\\alpha$: this will result in sub-optimal utility, but it's still a feasible solution. By trying enough prices, we should find one where the loss of utility isn't too great.\n",
    "\n",
    "<div class=\"alert alert-warning\">\n",
    "    \n",
    "TODO: use cvxopt, which (1) is allegedly faster, (2) gives the dual variables.\n",
    "The problems are straight optimizations with a convex objective and linear constraints,\n",
    "so they are prime candidates for convex optimization --- no need for gradient descent or\n",
    "explicit linear sub-problems. [https://cvxopt.org/userguide/solvers.html#problems-with-nonlinear-objectives]\n",
    "\n",
    "</div>"
   ]
  },
  {
   "cell_type": "code",
   "execution_count": 3,
   "metadata": {},
   "outputs": [],
   "source": [
    "# Mode choice model, using parameters computed from the trip dataset\n",
    "\n",
    "CHOICE_BIAS = 1.55393376\n",
    "CHOICE_RIDESHARE_PRICE = 0.3034984\n",
    "CHOICE_BUS_PRICE = 0.09368271 \n",
    "\n",
    "# Dummy model, expressing only price sensitivity\n",
    "#CHOICE_BIAS = 0\n",
    "#CHOICE_RIDESHARE_PRICE = 4\n",
    "#CHOICE_BUS_PRICE = 4\n",
    "\n",
    "def fraction_rideshare(rideshare_price, bus_price): \n",
    "    x = np.exp(CHOICE_BIAS - CHOICE_RIDESHARE_PRICE*rideshare_price + CHOICE_BUS_PRICE*bus_price)\n",
    "    return x/(1 + x)\n",
    "\n",
    "def user_utility(rideshare_price, bus_price, fraction_rideshare):\n",
    "    α = fraction_rideshare\n",
    "    u_rideshare = CHOICE_BIAS - CHOICE_RIDESHARE_PRICE*rideshare_price\n",
    "    u_bus = 0 - CHOICE_BUS_PRICE*bus_price\n",
    "    αsafe = np.where((0<α) & (α<1), α, .5)\n",
    "    u_choice = np.where((0<α) & (α<1), - αsafe*np.log(αsafe) - (1-αsafe)*np.log(1-αsafe), 0)\n",
    "    return np.where(fraction_rideshare>0, fraction_rideshare*u_rideshare, 0) + \\\n",
    "           np.where(fraction_rideshare<1, (1-fraction_rideshare)*u_bus, 0) + \\\n",
    "           u_choice"
   ]
  },
  {
   "cell_type": "code",
   "execution_count": 4,
   "metadata": {},
   "outputs": [],
   "source": [
    "'''Compute the assignment, at a specified rideshare price.\n",
    "\n",
    "Arguments:\n",
    "* routes: a DataFrame with one row per route, and columns for src, dst, demand, bus_price, vehicle_cost\n",
    "* nodes: routes.src and routes.dst should be integers in the range {0,...,len(routes)-1}\n",
    "* rideshare_price: vector with one entry per route\n",
    "\n",
    "Return: an Assignment object, which includes the routes DataFrame that was passed in,\n",
    "as well as several vectors:\n",
    "* rideshare_price, one entry per route\n",
    "* fraction_rideshare, one entry per route, values in [0,1]\n",
    "* rebalancing_flow i.e. β, one entry per route\n",
    "* shadow_price i.e. ξ, one entry per node\n",
    "'''\n",
    "\n",
    "Assignment = collections.namedtuple('Assignment', ['routes','rideshare_price','fraction_rideshare','rebalancing_flow','shadow_price'])\n",
    "\n",
    "def assignment_at_price(routes, nodes, rideshare_price):\n",
    "    α = fraction_rideshare(rideshare_price, routes['bus_price'])\n",
    "    (β,ξ) = _rebalancing_flows(demand = α * routes['demand'], \n",
    "                               vehicle_cost = routes['vehicle_cost'], \n",
    "                               src = routes['src'], \n",
    "                               dst = routes['dst'], \n",
    "                               num_nodes = len(nodes))\n",
    "    return Assignment(routes=routes, rideshare_price=rideshare_price, fraction_rideshare=α, rebalancing_flow=β, shadow_price=ξ)\n",
    "\n",
    "\n",
    "def _rebalancing_flows(demand, vehicle_cost, src, dst, num_nodes):\n",
    "    # Given rideshare_demand and vehicle_cost, compute the optimal rebalancing flow β and the corresponding dual variables ξ\n",
    "    # Build the incidence matrix\n",
    "    A = np.zeros((num_nodes, len(demand)))\n",
    "    for i,(s,d) in enumerate(zip(src,dst)):\n",
    "        A[s,i] = 1\n",
    "        A[d,i] = -1\n",
    "    # Solve the primal and dual\n",
    "    print(\"PRIMAL\")\n",
    "    res1 = scipy.optimize.linprog(c = vehicle_cost, \n",
    "                                  A_eq = A[:-1], \n",
    "                                  b_eq = -(A @ demand)[:-1], \n",
    "                                  bounds = (0,None),\n",
    "                                  options = {\"disp\": True, \"tol\":1e-2, \"maxiter\":1e4})\n",
    "    print(\"DUAL\")\n",
    "    res2 = scipy.optimize.linprog(c = A @ demand,\n",
    "                                  A_ub = A.T,\n",
    "                                  b_ub = vehicle_cost,\n",
    "                                  bounds = (None,None),\n",
    "                                  #method = 'interior-point',\n",
    "                                  options = {\"disp\": True, \"maxiter\": 3000})\n",
    "    return (np.array(res1.x), np.array(res2.x))"
   ]
  },
  {
   "cell_type": "code",
   "execution_count": 5,
   "metadata": {},
   "outputs": [],
   "source": [
    "'''Compute the optimal assignment, for a for-profit rideshare operator'''\n",
    "\n",
    "def profit(assignment):\n",
    "    # For a profit-maximizing enterprise, the goal is to maximize profit = revenue - costs\n",
    "    d,c = assignment.routes['demand'], assignment.routes['vehicle_cost']\n",
    "    α,β,π = assignment.fraction_rideshare, assignment.rebalancing_flow, assignment.rideshare_price\n",
    "    profit = np.sum((d*α*π) - (d*α+β)*c)\n",
    "    return profit\n",
    "\n",
    "def assignment_maxprofit(routes, nodes):\n",
    "    # TODO: use gradient descent to find the profit-maximizing multipliers...\n",
    "    # Or, since the objective is convex, a straight convex optimizer should work!\n",
    "    # For now, I'll just sample 100 random surge multipliers and pick the best.\n",
    "    # The tricks with clear_output and redirect_stdout are to give me useful output for progress/debugging.\n",
    "    (best_res, max_obj, log) = None, float('-inf'), None\n",
    "    for i in range(100):\n",
    "        print(i, end='')\n",
    "        IPython.display.clear_output(wait=True)\n",
    "        multiplier = np.random.uniform(low=.5, high=15, size=len(nodes))\n",
    "        route_multiplier = multiplier[routes['src']]\n",
    "        # There is definitely a feasible solution with profit=0, where no one takes rideshare. Ensure this is found!\n",
    "        if i == 0: route_multiplier = float('inf')\n",
    "        π = route_multiplier * routes['vehicle_cost']\n",
    "        f = io.StringIO()\n",
    "        with contextlib.redirect_stdout(f):\n",
    "            res = assignment_at_price(routes, nodes, π)\n",
    "        obj = profit(res)\n",
    "        if obj > max_obj: \n",
    "            (best_res, max_obj, log) = (res, obj, f.getvalue())\n",
    "    print(log)\n",
    "    return best_res"
   ]
  },
  {
   "cell_type": "code",
   "execution_count": 6,
   "metadata": {},
   "outputs": [],
   "source": [
    "'''Compute the optimal assignment, for a non-profit rideshare operator'''\n",
    "\n",
    "def utility(assignment):\n",
    "    d,bp = assignment.routes['demand'], assignment.routes['bus_price']\n",
    "    α,π = assignment.fraction_rideshare, assignment.rideshare_price\n",
    "    utility = np.sum(d*user_utility(π,bp,α))\n",
    "    return utility\n",
    "\n",
    "def assignment_maxutility(routes, nodes):\n",
    "    # TODO: better optimizer\n",
    "    (best_res, max_obj, log) = None, float('-inf'), None\n",
    "    for i in range(10):\n",
    "        multiplier = np.random.uniform(low=.5, high=3, size=len(nodes))\n",
    "        route_multiplier = multiplier[routes['src']]\n",
    "        # There is definitely a feasible solution with profit=0, where no one takes rideshare. Ensure this is found!\n",
    "        if i == 0: route_multiplier = float('inf')\n",
    "        π = route_multiplier * routes['vehicle_cost']\n",
    "        for j in range(10):\n",
    "            print(i*10+j, end='')\n",
    "            IPython.display.clear_output(wait=True)\n",
    "            f = io.StringIO()\n",
    "            with contextlib.redirect_stdout(f):\n",
    "                res = assignment_at_price(routes, nodes, π)\n",
    "            ξ = res.shadow_price\n",
    "            minprice = routes['vehicle_cost'] - ξ[routes['src']] + ξ[routes['dst']]\n",
    "            res = res._replace(rideshare_price = np.maximum(minprice, res.rideshare_price))\n",
    "            π = 0.9*π + 0.1*res.rideshare_price\n",
    "            obj = utility(res)\n",
    "            if obj > max_obj: \n",
    "                (best_res, max_obj, log) = (res, obj, f.getvalue())\n",
    "    print(log)\n",
    "    return best_res"
   ]
  },
  {
   "cell_type": "code",
   "execution_count": 7,
   "metadata": {},
   "outputs": [
    {
     "name": "stdout",
     "output_type": "stream",
     "text": [
      "PRIMAL\n",
      "Optimization terminated successfully.\n",
      "         Current function value: 3.970452    \n",
      "         Iterations: 1\n",
      "DUAL\n",
      "Optimization terminated successfully.\n",
      "         Current function value: -3.970452   \n",
      "         Iterations: 2\n",
      "\n"
     ]
    }
   ],
   "source": [
    "res1 = assignment_maxprofit(routes, nodes)"
   ]
  },
  {
   "cell_type": "code",
   "execution_count": 8,
   "metadata": {},
   "outputs": [
    {
     "name": "stdout",
     "output_type": "stream",
     "text": [
      "PRIMAL\n",
      "Optimization terminated successfully.\n",
      "         Current function value: 7.646524    \n",
      "         Iterations: 1\n",
      "DUAL\n",
      "Optimization terminated successfully.\n",
      "         Current function value: -7.646524   \n",
      "         Iterations: 2\n",
      "\n"
     ]
    }
   ],
   "source": [
    "res2 = assignment_maxutility(routes, nodes)"
   ]
  },
  {
   "cell_type": "markdown",
   "metadata": {},
   "source": [
    "# Depicting the output\n",
    "\n",
    "## Aggregate numbers"
   ]
  },
  {
   "cell_type": "code",
   "execution_count": 9,
   "metadata": {},
   "outputs": [
    {
     "name": "stdout",
     "output_type": "stream",
     "text": [
      "PRIMAL\n",
      "Optimization terminated successfully.\n",
      "         Current function value: 4.108449    \n",
      "         Iterations: 1\n",
      "DUAL\n",
      "Optimization terminated successfully.\n",
      "         Current function value: -4.108449   \n",
      "         Iterations: 2\n",
      "\n"
     ]
    }
   ],
   "source": [
    "res_p = assignment_maxprofit(routes, nodes)"
   ]
  },
  {
   "cell_type": "code",
   "execution_count": 10,
   "metadata": {},
   "outputs": [
    {
     "name": "stdout",
     "output_type": "stream",
     "text": [
      "PRIMAL\n",
      "Optimization terminated successfully.\n",
      "         Current function value: 8.294085    \n",
      "         Iterations: 1\n",
      "DUAL\n",
      "Optimization terminated successfully.\n",
      "         Current function value: -8.294085   \n",
      "         Iterations: 2\n",
      "\n"
     ]
    }
   ],
   "source": [
    "res_np = assignment_maxutility(routes, nodes)"
   ]
  },
  {
   "cell_type": "code",
   "execution_count": 11,
   "metadata": {},
   "outputs": [
    {
     "name": "stdout",
     "output_type": "stream",
     "text": [
      "profit: 22.1647280870039\n",
      "profit: 22.164728087003905\n"
     ]
    }
   ],
   "source": [
    "# To illustrate the fundamental relationship:\n",
    "res = res_p\n",
    "\n",
    "# We could work out profit in the mundane way, profit = revenue - costs\n",
    "revenue = res.routes.demand * res.fraction_rideshare * res.rideshare_price\n",
    "costs = (res.routes.demand * res.fraction_rideshare + res.rebalancing_flow) * res.routes.vehicle_cost\n",
    "print(f\"profit: {np.sum(revenue - costs)}\")\n",
    "\n",
    "# But we're cleverer than that! We've got a breakdown of profit!\n",
    "rebalancing_cost = res.shadow_price[res.routes.dst] - res.shadow_price[res.routes.src] \n",
    "rideshare_profit = res.rideshare_price - (res.routes.vehicle_cost + rebalancing_cost)\n",
    "print(f\"profit: {np.sum(res.routes.demand * res.fraction_rideshare * rideshare_profit)}\")"
   ]
  },
  {
   "cell_type": "code",
   "execution_count": 170,
   "metadata": {},
   "outputs": [
    {
     "name": "stdout",
     "output_type": "stream",
     "text": [
      "bus-only: bus revenue = $930.0606060606062 = $2.7680375180375187 / trip\n",
      "bus+rs.np: bus revenue = $223.33485729292693 = $2.768080997143009/trip * 0.24012558735188924 of trips\n",
      "bus+rs.np: rs operating costs = $350.14099596844426 = $1.3713927988357073 / trip * 0.7598744126481107 of trips\n",
      "bus+rs.p: bus revenue = $608.933245190206 = $2.767761540376743/trip * 0.6547895469073408 of trips\n",
      "bus+rs.p: rs operating costs = $128.42480073605154 = $1.1071990011690174 / trip * 0.34521045309265924 of trips\n",
      "bus+rs.p: rs profit = $506.0668210036391 = $4.362994340101137 / trip\n"
     ]
    }
   ],
   "source": [
    "# Compare three worlds:\n",
    "# A. bus only\n",
    "# B. bus + non-profit rideshare\n",
    "# C. bus + for-profit rideshare\n",
    "#\n",
    "# Note: in bus+rs the passengers might end up paying more -- \n",
    "# but that's because they want to: they like having rideshare!\n",
    "\n",
    "# Bus-only world\n",
    "d,bp,vc = routes.demand, routes.bus_price, routes.vehicle_cost\n",
    "N = sum(d)\n",
    "rev0 = d * bp\n",
    "print(f\"bus-only: bus revenue = ${np.sum(rev0)} = ${np.sum(rev0)/N} / trip\")\n",
    "\n",
    "# Bus plus rideshare non-profit\n",
    "α,β = res_np.fraction_rideshare, res_np.rebalancing_flow\n",
    "Nα = sum(d*α)\n",
    "rev1 = d*(1-α)*bp\n",
    "opcost = (d*α+β)*vc\n",
    "print(f\"bus+rs.np: bus revenue = ${np.sum(rev1)} = ${np.sum(rev1)/(N-Nα)}/trip * {(N-Nα)/N} of trips\")\n",
    "print(f\"bus+rs.np: rs operating costs = ${np.sum(opcost)} = ${np.sum(opcost)/Nα} / trip * {Nα/N} of trips\")\n",
    "\n",
    "# Bus plus rideshare for-profit\n",
    "α,β,π,ξ = res_p.fraction_rideshare, res_p.rebalancing_flow, res_p.rideshare_price, res_p.shadow_price\n",
    "Nα = sum(d*α)\n",
    "rebalancing_cost = ξ[routes.dst] - ξ[routes.src]\n",
    "rideshare_profit = π - (vc + rebalancing_cost)\n",
    "\n",
    "rev1 = d*(1-α)*bp\n",
    "opcost = (d*α+β)*vc\n",
    "opcost = d*α*(vc + rebalancing_cost) # equivalent\n",
    "print(f\"bus+rs.p: bus revenue = ${np.sum(rev1)} = ${np.sum(rev1)/(N-Nα)}/trip * {(N-Nα)/N} of trips\")\n",
    "print(f\"bus+rs.p: rs operating costs = ${np.sum(opcost)} = ${np.sum(opcost)/Nα} / trip * {Nα/N} of trips\")\n",
    "print(f\"bus+rs.p: rs profit = ${np.sum(d*α*rideshare_profit)} = ${np.sum(d*α*rideshare_profit)/Nα} / trip\")"
   ]
  },
  {
   "cell_type": "code",
   "execution_count": 171,
   "metadata": {},
   "outputs": [
    {
     "data": {
      "image/png": "[encoded data removed]",
      "text/plain": [
       "<Figure size 432x288 with 2 Axes>"
      ]
     },
     "metadata": {
      "needs_background": "light"
     },
     "output_type": "display_data"
    }
   ],
   "source": [
    "# Look at the distribution of how much people pay in A versus in B/C.\n",
    "fig,(ax1,ax2) = plt.subplots(2,1, sharex=True)\n",
    "ax1.hist(bp, weights=d, bins=np.linspace(0,4,20))\n",
    "ax1.set_ylabel(\"bus only\")\n",
    "α,π = res_np.fraction_rideshare, res_np.rideshare_price\n",
    "ax2.hist(list(bp)+list(π), weights=list(d*(1-α))+list(d*α), bins=np.linspace(0,4,20))\n",
    "ax2.set_ylabel(\"bus + rideshare np\")\n",
    "plt.show()"
   ]
  },
  {
   "cell_type": "markdown",
   "metadata": {},
   "source": [
    "## Map dataprep\n",
    "\n",
    "This section provides some simple high-level commands for assembling plots:\n",
    "\n",
    "* `geom_choropleth(aes(color=x), ...)` where `x` is a list with one entry per row of `nodes`. The data for this is from the `bayarea_tract2000.shp` shapefile, which has a field for tract ID. We merge it with `nodes['tract']`.\n",
    "\n",
    "* `geom_network(aes(width=x), ...)` where `x` is a list with one entry per row of `routes`. The data for this is from AA's file `routes.csv`,\n",
    "which has paths between every pair of tract IDs. We identify the distinct _segments_ in this file, and all the aes attributes are aggregated per segment. (To help with \"atomic plots\", we also provide a vector `route_length` with one entry per row of `routes`.)\n",
    "\n",
    "Usage:\n",
    "```\n",
    "m = ipyleaflet.Map(center=(37.78, -122.4), zoom=13, layers=[])\n",
    "m.add_layer(ipyleaflet.basemap_to_tiles(ipyleaflet.basemaps.CartoDB.DarkMatter))\n",
    "\n",
    "g = geom_network(aes(weight=np.maximum(rideshare_profit,0)/route_length*0.3), color='yellow', name='profit')\n",
    "m.add_layer(g)\n",
    "\n",
    "g = geom_choropleth(aes(color=nodes['flow_in']), style={'fillOpacity':0.5})\n",
    "m.add_layer(g)\n",
    "\n",
    "m.add_control(ipyleaflet.LayersControl())\n",
    "m\n",
    "```\n",
    "\n",
    "<div class=\"alert alert-warning\">\n",
    "    \n",
    "TODO: maybe switch to [folium](https://python-visualization.github.io/folium), which seems to be better-documented and \n",
    "better-featured. (But I don't think it does the nice split maps.)\n",
    "\n",
    "</div>"
   ]
  },
  {
   "cell_type": "code",
   "execution_count": 172,
   "metadata": {},
   "outputs": [],
   "source": [
    "def aes(**kwargs): return kwargs"
   ]
  },
  {
   "cell_type": "code",
   "execution_count": 173,
   "metadata": {},
   "outputs": [
    {
     "name": "stdout",
     "output_type": "stream",
     "text": [
      "[('DeletionFlag', 'C', 1, 0), ['TRT2000', 'C', 6, 0], ['FIRST_FIPS', 'C', 5, 0], ['FIRST_STFI', 'C', 11, 0], ['FIRST_TRAC', 'C', 10, 0]]\n"
     ]
    }
   ],
   "source": [
    "sf = shapefile.Reader(\"../data/bayarea_tract2000.shp\")\n",
    "print(sf.fields)"
   ]
  },
  {
   "cell_type": "code",
   "execution_count": 174,
   "metadata": {},
   "outputs": [],
   "source": [
    "# {tract: geojson_poly, ...}\n",
    "tract_polygons = {int(r.record[0]): r.shape.__geo_interface__ for r in sf.shapeRecords()}\n",
    "\n",
    "tracts = {'type': 'FeatureCollection',\n",
    "          'features': [{'type': 'Feature',\n",
    "                        'id': i,\n",
    "                        'properties': {'tract': node.tract},\n",
    "                        'geometry': tract_polygons[node.tract]}\n",
    "                      for i,node in enumerate(nodes.itertuples())]\n",
    "         }"
   ]
  },
  {
   "cell_type": "code",
   "execution_count": 175,
   "metadata": {},
   "outputs": [],
   "source": [
    "def geom_choropleth(x, **kwargs):\n",
    "    color_values = x['color']\n",
    "    del x['color']\n",
    "    if len(x) > 0:\n",
    "        badnames = ', '.join(x.keys())\n",
    "        raise Exception(f\"can't plot {badnames}\")\n",
    "    return ipyleaflet.Choropleth(geo_data = tracts, \n",
    "                                 choro_data = {i:v for i,v in enumerate(color_values)},\n",
    "                                 **kwargs)"
   ]
  },
  {
   "cell_type": "code",
   "execution_count": 176,
   "metadata": {},
   "outputs": [],
   "source": [
    "paths = pandas.read_csv('../data/routes.csv')\n",
    "paths.sort_values(['origin_tract','des_tract','sequence'], inplace=True)"
   ]
  },
  {
   "cell_type": "code",
   "execution_count": 177,
   "metadata": {},
   "outputs": [],
   "source": [
    "# For plotting networks, create a dataframe segments with columns [route_num, lng1,lat1, lng2,lat2]\n",
    "# where route_num is in {0,...,E-1}, i.e. an integer index into routes.\n",
    "# Also create a vector route_length of length E.\n",
    "\n",
    "paths['lng2'] = np.append(paths['longitude'][1:].values, np.nan)\n",
    "paths['lat2'] = np.append(paths['latitude'][1:].values, np.nan)\n",
    "paths['last'] = np.append(paths['sequence'][1:].values, 0) <= paths['sequence']\n",
    "segments = paths.loc[~paths['last']].copy()\n",
    "segments.rename(columns={'longitude':'lng1', 'latitude':'lat1'}, inplace=True)\n",
    "df = routes[['orig_tract','des_tract']].copy()\n",
    "df['route_num'] = np.arange(len(df))\n",
    "segments = segments.merge(df, left_on=['origin_tract','des_tract'], right_on=['orig_tract','des_tract'])\n",
    "segments['distance'] = np.sqrt(np.power((segments['lng1']-segments['lng2'])*100*np.cos(segments['lat1']*2*np.pi/360),2) + np.power((segments['lat1']-segments['lat2'])*100,2))\n",
    "df2 = segments.groupby('route_num')['distance'].apply(sum)\n",
    "route_length = df2.loc[np.arange(len(df))]\n",
    "route_length.index = routes.index\n",
    "leftright = (segments['lng1'] < segments['lng2']) | ((segments['lng1'] == segments['lng2']) & (segments['lat1']>=segments['lat2']))\n",
    "segments['lng1d'] = np.where(leftright,  segments['lng1'], segments['lng2'])\n",
    "segments['lng2d'] = np.where(~leftright, segments['lng1'], segments['lng2'])\n",
    "segments['lat1d'] = np.where(leftright,  segments['lat1'], segments['lat2'])\n",
    "segments['lat2d'] = np.where(~leftright, segments['lat1'], segments['lat2'])\n",
    "segments = segments.groupby(['lng1d','lng2d','lat1d','lat2d'])['route_num'].apply(list).reset_index()\n",
    "segments.rename(columns={'lng1d':'lng1', 'lat1d':'lat1', 'lng2d':'lng2', 'lat2d':'lat2'}, inplace=True)"
   ]
  },
  {
   "cell_type": "code",
   "execution_count": 178,
   "metadata": {},
   "outputs": [],
   "source": [
    "def geom_network(x, name=None, imax=-1, **kwargs):\n",
    "    if imax<=0: imax=len(segments)\n",
    "    lines = []\n",
    "    for seg in segments.iloc[np.arange(imax)].itertuples():\n",
    "        d = kwargs.copy()\n",
    "        for k,v in x.items():\n",
    "            d[k] = sum(v.iloc[r] for r in seg.route_num)\n",
    "        if 'weight' in d: \n",
    "            d['weight'] = int(round(d['weight']))\n",
    "            if d['weight'] <= 0: continue\n",
    "        l = ipyleaflet.Polyline(locations=[[[seg.lat1,seg.lng1],[seg.lat2,seg.lng2]]], **d)\n",
    "        lines.append(l)\n",
    "    if name is None:\n",
    "        return ipyleaflet.LayerGroup(layers=lines)\n",
    "    else:\n",
    "        return ipyleaflet.LayerGroup(layers=lines, name=name)"
   ]
  },
  {
   "cell_type": "markdown",
   "metadata": {},
   "source": [
    "## Map output"
   ]
  },
  {
   "cell_type": "code",
   "execution_count": null,
   "metadata": {
    "scrolled": false
   },
   "outputs": [],
   "source": [
    "# Show the total demand (presumed to go by bus, in the base case)\n",
    "\n",
    "m = ipyleaflet.Map(center=(37.78, -122.4), zoom=13, layers=[])\n",
    "m.add_layer(ipyleaflet.basemap_to_tiles(ipyleaflet.basemaps.CartoDB.DarkMatter))\n",
    "m.add_layer(geom_network(aes(weight=res.routes.demand*0.5), color='green', name='bus'))\n",
    "m"
   ]
  },
  {
   "cell_type": "code",
   "execution_count": null,
   "metadata": {},
   "outputs": [],
   "source": [
    "# Show how it divides between bus and rideshare_np\n",
    "\n",
    "m = ipyleaflet.Map(center=(37.78, -122.4), zoom=13, layers=[])\n",
    "m.add_layer(ipyleaflet.basemap_to_tiles(ipyleaflet.basemaps.CartoDB.DarkMatter))\n",
    "m.add_layer(geom_network(aes(weight=res_np.routes.demand*0.5), color='yellow', name='rideshare'))\n",
    "m.add_layer(geom_network(aes(weight=res_np.routes.demand*(1-res_np.fraction_rideshare)*0.5), color='green', name='bus'))\n",
    "m"
   ]
  },
  {
   "cell_type": "code",
   "execution_count": null,
   "metadata": {},
   "outputs": [],
   "source": [
    "# And how it divides between bus and rideshare_p\n",
    "\n",
    "m = ipyleaflet.Map(center=(37.78, -122.4), zoom=13, layers=[])\n",
    "m.add_layer(ipyleaflet.basemap_to_tiles(ipyleaflet.basemaps.CartoDB.DarkMatter))\n",
    "m.add_layer(geom_network(aes(weight=res_p.routes.demand*0.5), color='yellow', name='rideshare'))\n",
    "m.add_layer(geom_network(aes(weight=res_p.routes.demand*(1-res_p.fraction_rideshare)*0.5), color='green', name='bus'))\n",
    "m"
   ]
  },
  {
   "cell_type": "code",
   "execution_count": null,
   "metadata": {},
   "outputs": [],
   "source": [
    "# Where is profit being made by a profiteering rideshare company?\n",
    "# On which routes is it making a loss?\n",
    "\n",
    "m = ipyleaflet.Map(center=(37.78, -122.4), zoom=13, layers=[])\n",
    "m.add_layer(ipyleaflet.basemap_to_tiles(ipyleaflet.basemaps.CartoDB.DarkMatter))\n",
    "g_profit = geom_network(aes(weight=np.maximum(rideshare_profit,0)/route_length*0.3), color='yellow', name='profit')\n",
    "g_loss = geom_network(aes(weight=-np.minimum(rideshare_profit,0)/route_length*3), color='red', name='loss')\n",
    "m.add_layer(g_profit)\n",
    "m.add_layer(g_loss)\n",
    "m.add_control(ipyleaflet.LayersControl())\n",
    "m"
   ]
  },
  {
   "cell_type": "code",
   "execution_count": null,
   "metadata": {},
   "outputs": [],
   "source": [
    "# What are the shadow prices, i.e. demand at each location?\n",
    "# +ve shadow price (red) means there's a surplus of vehicles -- pay extra to go there, get paid to leave from there\n",
    "# -ve shadow price (blue) means there's a deficit of vehicles -- get paid to go there, pay extra to leave from there\n",
    "\n",
    "m = ipyleaflet.Map(center=(37.78, -122.4), zoom=13, layers=[])\n",
    "m.add_layer(ipyleaflet.basemap_to_tiles(ipyleaflet.basemaps.CartoDB.DarkMatter))\n",
    "\n",
    "g = geom_choropleth(aes(color=res.shadow_price), style={'fillOpacity':0.6}, colormap=branca.colormap.linear.PuOr_05, value_min=-4, value_max=4)\n",
    "m.add_layer(g)\n",
    "\n",
    "m"
   ]
  }
 ],
 "metadata": {
  "kernelspec": {
   "display_name": "Python 3",
   "language": "python",
   "name": "python3"
  },
  "language_info": {
   "codemirror_mode": {
    "name": "ipython",
    "version": 3
   },
   "file_extension": ".py",
   "mimetype": "text/x-python",
   "name": "python",
   "nbconvert_exporter": "python",
   "pygments_lexer": "ipython3",
   "version": "3.6.7"
  }
 },
 "nbformat": 4,
 "nbformat_minor": 2
}
